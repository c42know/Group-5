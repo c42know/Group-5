{
 "cells": [
  {
   "cell_type": "code",
   "execution_count": 2,
   "metadata": {},
   "outputs": [],
   "source": [
    "# Dependencies\n",
    "import tweepy\n",
    "import numpy as np\n",
    "import pandas as pd\n",
    "from datetime import datetime\n",
    "import matplotlib.pyplot as plt\n",
    "from matplotlib import style\n",
    "\n",
    "from vaderSentiment.vaderSentiment import SentimentIntensityAnalyzer\n",
    "analyzer = SentimentIntensityAnalyzer()\n",
    "\n",
    "# Twitter API Keys\n",
    "from config import (consumer_key, \n",
    "                    consumer_secret, \n",
    "                    access_token, \n",
    "                    access_token_secret)\n",
    "\n",
    "# Setup Tweepy API Authentication\n",
    "auth = tweepy.OAuthHandler(consumer_key, consumer_secret)\n",
    "auth.set_access_token(access_token, access_token_secret)\n",
    "api = tweepy.API(auth, parser=tweepy.parsers.JSONParser())"
   ]
  },
  {
   "cell_type": "code",
   "execution_count": 4,
   "metadata": {},
   "outputs": [],
   "source": [
    "#search_terms = (\"@RTCSNV\",\"@MARTA\")\n",
    "search_term = \"@RTCSNV\"\n",
    "# Create variable for holding the oldest tweet\n",
    "oldest_tweet = None\n",
    "\n",
    "# List to hold unique IDs\n",
    "sentiments = []\n",
    "\n",
    "# Counter to keep track of the number of tweets retrieved\n",
    "counter = 0\n",
    "\n",
    "for x in range(10):\n",
    "\n",
    "    # Retrieve 100 most recent tweets -- specifying a max_id\n",
    "    public_tweets = api.search(search_term, \n",
    "                               count=100, \n",
    "                               result_type=\"recent\", \n",
    "                               max_id=oldest_tweet)\n",
    "\n",
    "    # Print Tweets\n",
    "    for tweet in public_tweets[\"statuses\"]:\n",
    "\n",
    "        # Print the username\n",
    "        results = analyzer.polarity_scores(tweet[\"text\"])\n",
    "        compound = results[\"compound\"]\n",
    "        pos = results[\"pos\"]\n",
    "        neu = results[\"neu\"]\n",
    "        neg = results[\"neg\"]\n",
    "        tweets_ago = counter\n",
    "\n",
    "        # Get Tweet ID, subtract 1, and assign to oldest_tweet\n",
    "        oldest_tweet = tweet['id'] - 1\n",
    "\n",
    "        # Add sentiments for each tweet into a list\n",
    "        sentiments.append({\"Date\": tweet[\"created_at\"],\n",
    "                           \"Subject\": search_term,\n",
    "                           \"Compound\": compound,\n",
    "                           \"Positive\": pos,\n",
    "                           \"Negative\": neu,\n",
    "                           \"Neutral\": neg,\n",
    "                           \"Tweets Ago\": counter})\n",
    "\n",
    "        # Add to counter \n",
    "        counter += 1"
   ]
  },
  {
   "cell_type": "code",
   "execution_count": 6,
   "metadata": {},
   "outputs": [
    {
     "data": {
      "text/plain": [
       "Compound      300\n",
       "Date          300\n",
       "Negative      300\n",
       "Neutral       300\n",
       "Positive      300\n",
       "Subject       300\n",
       "Tweets Ago    300\n",
       "dtype: int64"
      ]
     },
     "execution_count": 6,
     "metadata": {},
     "output_type": "execute_result"
    }
   ],
   "source": [
    "sentiments_pd = pd.DataFrame.from_dict(sentiments)\n",
    "#sentiments_pd.to_csv('twitter.csv', encoding='utf-8')\n",
    "sentiments_pd.count()\n"
   ]
  },
  {
   "cell_type": "code",
   "execution_count": null,
   "metadata": {},
   "outputs": [],
   "source": []
  }
 ],
 "metadata": {
  "kernelspec": {
   "display_name": "Python 3",
   "language": "python",
   "name": "python3"
  },
  "language_info": {
   "codemirror_mode": {
    "name": "ipython",
    "version": 3
   },
   "file_extension": ".py",
   "mimetype": "text/x-python",
   "name": "python",
   "nbconvert_exporter": "python",
   "pygments_lexer": "ipython3",
   "version": "3.6.4"
  }
 },
 "nbformat": 4,
 "nbformat_minor": 2
}
